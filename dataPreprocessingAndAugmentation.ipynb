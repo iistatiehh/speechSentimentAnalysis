{
 "cells": [
  {
   "cell_type": "code",
   "execution_count": null,
   "id": "f81104d7",
   "metadata": {},
   "outputs": [],
   "source": [
    "data_df=pd.read_csv(r\"data\\afterReadingDataSet.csv\")"
   ]
  },
  {
   "cell_type": "code",
   "execution_count": null,
   "id": "4dc950e2",
   "metadata": {},
   "outputs": [],
   "source": [
    "# Checking label counts\n",
    "data_df.Emotions.value_counts()"
   ]
  },
  {
   "cell_type": "markdown",
   "id": "910718c9",
   "metadata": {},
   "source": [
    "Might Drop surprise and calm for having low number of samples"
   ]
  },
  {
   "cell_type": "markdown",
   "id": "12da8598",
   "metadata": {},
   "source": [
    "nutral and calm are similer and they will be combined"
   ]
  },
  {
   "cell_type": "code",
   "execution_count": null,
   "id": "3a27ebfe",
   "metadata": {},
   "outputs": [],
   "source": [
    "# Combining neutral and calm instances\n",
    "data_df.loc[data_df['Emotions'] == 'neutral','Emotions'] = \"calm\"\n",
    "# dropping surprise \n",
    "data_df = data_df[data_df['Emotions'] != 'surprise']\n",
    "data_df.Emotions.value_counts()"
   ]
  },
  {
   "cell_type": "code",
   "execution_count": null,
   "id": "48b4645c",
   "metadata": {},
   "outputs": [],
   "source": [
    "# Drop null values\n",
    "print(data_df.isnull().sum())\n",
    "data_df.dropna(inplace=True)\n",
    "print(f\"Null values in dataframe: {sum(data_df.isnull().sum())}\")\n",
    "print(f\"Shape of dataframe: {data_df.shape}\")"
   ]
  },
  {
   "cell_type": "code",
   "execution_count": null,
   "id": "0c39474d",
   "metadata": {},
   "outputs": [],
   "source": [
    "# Plot to see counts of labels\n",
    "plt.figure(figsize=(8 ,6))\n",
    "plt.title('Count of Emotions', size=16)\n",
    "# Google drive plot\n",
    "sns.countplot(data=data_df, x=\"Emotions\", hue=\"Emotions\", palette=\"twilight\", legend=False)\n",
    "# Kaggle plot\n",
    "# sns.countplot(data=data_df, x=\"Emotions\")\n",
    "plt.ylabel('Count', size=12)\n",
    "plt.xlabel('Emotions', size=12)\n",
    "sns.despine(top=True, right=True, left=False, bottom=False)\n",
    "plt.tick_params(axis='x', labelsize=13)\n",
    "plt.show()"
   ]
  },
  {
   "cell_type": "code",
   "execution_count": null,
   "id": "219ce864",
   "metadata": {},
   "outputs": [],
   "source": [
    "# Function to plot waveform\n",
    "def create_waveplot(data, sr, emo):\n",
    "    plt.figure(figsize=(10, 3))\n",
    "    plt.title(f'Waveplot for audio with {emo} emotion', size=15)\n",
    "    librosa.display.waveshow(data, sr=sr)\n",
    "    plt.xlabel('Time(s)', size=12)\n",
    "    plt.ylabel('Amplitude', size=12)\n",
    "    plt.tick_params(axis='x', labelsize=10)\n",
    "    plt.tick_params(axis='y', labelsize=10)\n",
    "    plt.show()\n",
    "\n",
    "# Function to plot spectrogram\n",
    "def create_spectrogram(data, sr, emo):\n",
    "    # stft function converts the data into short term fourier transform\n",
    "    X = librosa.stft(data)\n",
    "    # Convert frequency into decibels\n",
    "    Xdb = librosa.amplitude_to_db(abs(X))\n",
    "    plt.figure(figsize=(11, 3))\n",
    "    plt.title(f'Spectrogram for audio with {emo} emotion', size=15)\n",
    "    librosa.display.specshow(Xdb, sr=sr, x_axis='time', y_axis='hz')\n",
    "    plt.xlabel('Time(s)', size=12)\n",
    "    plt.ylabel('Hz', size=12)\n",
    "    plt.tick_params(axis='x', labelsize=10)\n",
    "    plt.tick_params(axis='y', labelsize=10)\n",
    "    plt.colorbar()\n",
    "\n",
    "# Combine all plot functions\n",
    "def combine_plots(data, emo):\n",
    "    # Randomly select data instance of given emotion\n",
    "    data_path = data[data['Emotions'] == emo]['Path'].iloc[randrange(len(data[data['Emotions'] == emo]))]\n",
    "    data, sr = librosa.load(data_path)\n",
    "    create_waveplot(data, sr, emo)\n",
    "    create_spectrogram(data, sr, emo)\n",
    "    return data, sr"
   ]
  },
  {
   "cell_type": "code",
   "execution_count": null,
   "id": "74cb0f13",
   "metadata": {},
   "outputs": [],
   "source": [
    "emo = 'calm'\n",
    "data, sr = combine_plots(data_df, emo)\n",
    "Audio(data, rate=sr)"
   ]
  },
  {
   "cell_type": "code",
   "execution_count": null,
   "id": "9317c2e9",
   "metadata": {},
   "outputs": [],
   "source": [
    "emo = \"angry\"\n",
    "data, sr = combine_plots(data_df, emo)\n",
    "Audio(data, rate=sr)"
   ]
  },
  {
   "cell_type": "code",
   "execution_count": null,
   "id": "abdc7ca6",
   "metadata": {},
   "outputs": [],
   "source": [
    "# Function to introduce noise in the audio\n",
    "def noise(data):\n",
    "    noise_amp = 0.035 * np.random.uniform() * np.amax(data)\n",
    "    data = data + noise_amp * np.random.normal(size=data.shape[0])\n",
    "    return data\n",
    "# Function to stretch audio\n",
    "def stretch(data, rate=0.8):\n",
    "    return librosa.effects.time_stretch(data, rate=rate)\n",
    "\n",
    "# Function to change the pitch of the data\n",
    "def pitch(data, sample_rate, pitch_factor=0.7):\n",
    "    return librosa.effects.pitch_shift(data, sr=sample_rate, n_steps=pitch_factor)"
   ]
  },
  {
   "cell_type": "code",
   "execution_count": null,
   "id": "8a0330f0",
   "metadata": {},
   "outputs": [],
   "source": [
    "def process_file(path, emotion):\n",
    "    features = get_features(path)\n",
    "    return [(feature, emotion) for feature in features]\n",
    "X, y = [], []\n",
    "c = 0\n",
    "# Use ThreadPoolExecutor for I/O bound tasks or ProcessPoolExecutor for CPU bound tasks\n",
    "with concurrent.futures.ThreadPoolExecutor() as executor:\n",
    "    # Create a list of futures\n",
    "    futures = [executor.submit(process_file, path, emotion) for path, emotion in zip(data_df.Path, data_df.Emotions)]\n",
    "\n",
    "    # As each future completes, process the results\n",
    "    for future in concurrent.futures.as_completed(futures):\n",
    "        results = future.result()\n",
    "        for feature, emotion in results:\n",
    "            X.append(feature)\n",
    "            y.append(emotion)\n",
    "            c += 1\n",
    "        print(f\"Processed {c} files\")"
   ]
  },
  {
   "cell_type": "code",
   "execution_count": null,
   "id": "e029e08b",
   "metadata": {},
   "outputs": [],
   "source": [
    "len(X), len(y)"
   ]
  },
  {
   "cell_type": "code",
   "execution_count": null,
   "id": "84c2752d",
   "metadata": {},
   "outputs": [],
   "source": [
    "data_df = pd.DataFrame(X)\n",
    "data_df[\"Labels\"] = y\n",
    "data_df.head()"
   ]
  },
  {
   "cell_type": "code",
   "execution_count": null,
   "id": "a83882f3",
   "metadata": {},
   "outputs": [],
   "source": [
    "data_df.to_csv(\"data\\combined.csv\", index = False)"
   ]
  }
 ],
 "metadata": {
  "language_info": {
   "name": "python"
  }
 },
 "nbformat": 4,
 "nbformat_minor": 5
}
